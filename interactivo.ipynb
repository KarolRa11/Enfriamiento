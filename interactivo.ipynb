{
 "cells": [
  {
   "cell_type": "code",
   "execution_count": 2,
   "id": "771239ba-d292-472e-a50f-79f607dcb2ad",
   "metadata": {},
   "outputs": [
    {
     "name": "stdout",
     "output_type": "stream",
     "text": [
      "Solución general de la ecuación diferencial:\n"
     ]
    },
    {
     "data": {
      "text/latex": [
       "$\\displaystyle T{\\left(t \\right)} = C_{1} e^{- k t} + T_{env}$"
      ],
      "text/plain": [
       "Eq(T(t), C1*exp(-k*t) + T_env)"
      ]
     },
     "metadata": {},
     "output_type": "display_data"
    },
    {
     "data": {
      "application/vnd.jupyter.widget-view+json": {
       "model_id": "3b6f60b26264468d952dc8416262bacf",
       "version_major": 2,
       "version_minor": 0
      },
      "text/plain": [
       "FloatSlider(value=85.0, description='T Inicial (°C)', min=40.0, step=1.0)"
      ]
     },
     "metadata": {},
     "output_type": "display_data"
    },
    {
     "data": {
      "application/vnd.jupyter.widget-view+json": {
       "model_id": "5ad9adf825fa43d4bea78df449407ad8",
       "version_major": 2,
       "version_minor": 0
      },
      "text/plain": [
       "FloatSlider(value=25.0, description='T Ambiente (°C)', max=40.0, min=10.0, step=1.0)"
      ]
     },
     "metadata": {},
     "output_type": "display_data"
    },
    {
     "data": {
      "application/vnd.jupyter.widget-view+json": {
       "model_id": "d86e425b3c9c4fbba34200379292822b",
       "version_major": 2,
       "version_minor": 0
      },
      "text/plain": [
       "FloatSlider(value=0.1, description='k (Enfriamiento)', max=0.5, min=0.01, step=0.01)"
      ]
     },
     "metadata": {},
     "output_type": "display_data"
    },
    {
     "data": {
      "application/vnd.jupyter.widget-view+json": {
       "model_id": "7b613f131fbe4a0ba75e6fa721daf1eb",
       "version_major": 2,
       "version_minor": 0
      },
      "text/plain": [
       "Output()"
      ]
     },
     "metadata": {},
     "output_type": "display_data"
    }
   ],
   "source": [
    "import numpy as np\n",
    "import matplotlib.pyplot as plt\n",
    "import sympy as sp\n",
    "import ipywidgets as widgets\n",
    "from scipy.integrate import odeint\n",
    "from IPython.display import display\n",
    "\n",
    "# 📌 Asegurar que las gráficas se muestren correctamente en Jupyter Notebook\n",
    "%matplotlib inline  \n",
    "\n",
    "# 📌 Definir la variable independiente (tiempo)\n",
    "t = sp.Symbol('t')\n",
    "\n",
    "# 📌 Definir la función dependiente (Temperatura en función del tiempo)\n",
    "T = sp.Function('T')(t)\n",
    "\n",
    "# 📌 Definir la constante de enfriamiento y la temperatura ambiente\n",
    "k = sp.Symbol('k', positive=True)\n",
    "T_env = sp.Symbol('T_env')\n",
    "\n",
    "# 📌 Definir la ecuación diferencial de la Ley de Enfriamiento de Newton\n",
    "diff_eq = sp.Eq(T.diff(t), -k * (T - T_env))\n",
    "\n",
    "# 📌 Resolver la ecuación diferencial\n",
    "sol = sp.dsolve(diff_eq, T)\n",
    "print(\"Solución general de la ecuación diferencial:\")\n",
    "display(sol)\n",
    "\n",
    "# 📌 Crear la función de simulación dinámica\n",
    "def actualizar_simulacion(T_inicial, T_ambiente, k_valor):\n",
    "    tiempo = np.linspace(0, 200, 200)  # 200 puntos en un rango de tiempo de 0 a 200 segundos\n",
    "\n",
    "    # 📌 Función diferencial para la simulación\n",
    "    def enfriamiento(T, t, k, T_ambiente):\n",
    "        return -k * (T - T_ambiente)\n",
    "\n",
    "    # 📌 Resolver la ecuación diferencial numéricamente\n",
    "    T_solucion = odeint(enfriamiento, T_inicial, tiempo, args=(k_valor, T_ambiente))\n",
    "\n",
    "    # 📌 Graficar los resultados\n",
    "    plt.figure(figsize=(8, 5))\n",
    "    plt.plot(tiempo, T_solucion, label=\"Temperatura del procesador\", color=\"b\")\n",
    "    plt.axhline(y=T_ambiente, color='r', linestyle='--', label=\"Temperatura ambiente\")\n",
    "    plt.xlabel(\"Tiempo (segundos)\")\n",
    "    plt.ylabel(\"Temperatura (°C)\")\n",
    "    plt.title(\"Modelo de Enfriamiento del Procesador (Ley de Newton)\")\n",
    "    plt.legend()\n",
    "    plt.grid()\n",
    "\n",
    "    # 📌 Este comando FORZA que la gráfica se muestre en Jupyter Notebook\n",
    "    plt.show()\n",
    "\n",
    "# 📌 Crear sliders para modificar parámetros\n",
    "T_inicial_slider = widgets.FloatSlider(value=85, min=40, max=100, step=1, description=\"T Inicial (°C)\")\n",
    "T_ambiente_slider = widgets.FloatSlider(value=25, min=10, max=40, step=1, description=\"T Ambiente (°C)\")\n",
    "k_valor_slider = widgets.FloatSlider(value=0.1, min=0.01, max=0.5, step=0.01, description=\"k (Enfriamiento)\")\n",
    "\n",
    "# 📌 Mostrar la interfaz interactiva\n",
    "out = widgets.interactive_output(actualizar_simulacion, {\n",
    "    'T_inicial': T_inicial_slider,\n",
    "    'T_ambiente': T_ambiente_slider,\n",
    "    'k_valor': k_valor_slider\n",
    "})\n",
    "\n",
    "# 📌 Mostrar los controles y la gráfica\n",
    "display(T_inicial_slider, T_ambiente_slider, k_valor_slider, out)\n"
   ]
  },
  {
   "cell_type": "code",
   "execution_count": null,
   "id": "91f0aaf1-5f22-411b-90e3-0cdd02f6896a",
   "metadata": {},
   "outputs": [],
   "source": []
  },
  {
   "cell_type": "code",
   "execution_count": null,
   "id": "114f01f7-f6d4-4cae-8b6d-c455d05c8b2a",
   "metadata": {},
   "outputs": [],
   "source": []
  }
 ],
 "metadata": {
  "kernelspec": {
   "display_name": "Python 3 (ipykernel)",
   "language": "python",
   "name": "python3"
  },
  "language_info": {
   "codemirror_mode": {
    "name": "ipython",
    "version": 3
   },
   "file_extension": ".py",
   "mimetype": "text/x-python",
   "name": "python",
   "nbconvert_exporter": "python",
   "pygments_lexer": "ipython3",
   "version": "3.13.1"
  }
 },
 "nbformat": 4,
 "nbformat_minor": 5
}
